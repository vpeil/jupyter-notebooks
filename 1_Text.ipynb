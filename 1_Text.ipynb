{
 "cells": [
  {
   "cell_type": "markdown",
   "metadata": {},
   "source": [
    "# Texte (Strings)\n",
    "Eine Programmiersprache kann natürlich viel mehr. Zum Beispiel Texte verarbeiten. Obwohl die ja eigentlich auch nur Zahlen für einen Computer sind, wie wir gesehen haben."
   ]
  },
  {
   "cell_type": "code",
   "execution_count": null,
   "metadata": {},
   "outputs": [],
   "source": [
    "\"5 - 1\""
   ]
  },
  {
   "cell_type": "markdown",
   "metadata": {},
   "source": [
    "Nun hast Du Deinen ersten String erzeugt! Ein String muss stets mit dem gleichen Zeichen beginnen und enden. Dies kann entweder ein einzelnes Gänsefüßchen sein (') oder ein doppeltes (\"), da gibt es keinen Unterschied! Die Anführungszeichen zeigen Python nur an, dass alles dazwischen ein String ist. In anderen Programmiersprachen muss man dies ausdrücklich \"deklarieren\", also durch einen weiteren Befehl deutlich machen, dass hier nicht die Zahlen, oder die Aufgabe, sondern der wörtliche Text gemeint ist.\\\n",
    "Ein Computer kann auch mit Strings \"rechnen\", weil dies für ihn nur Zahlen sind:"
   ]
  },
  {
   "cell_type": "code",
   "execution_count": null,
   "metadata": {},
   "outputs": [],
   "source": [
    "\"Hi there \" + \"Ola\""
   ]
  },
  {
   "cell_type": "code",
   "execution_count": null,
   "metadata": {},
   "outputs": [],
   "source": [
    "\"Ola\" * 3"
   ]
  },
  {
   "cell_type": "markdown",
   "metadata": {},
   "source": [
    "Benötigst Du Anführungszeichen in Deinem Text musst Du Python sagen, dass es diese auch als Text behandeln soll. Hierfür gibt es verschiedene Möglichkeiten.\n",
    "1. Du benutzt einfach die jeweils andere Sorte"
   ]
  },
  {
   "cell_type": "code",
   "execution_count": null,
   "metadata": {},
   "outputs": [],
   "source": [
    "\"Runnin' down the hill\""
   ]
  },
  {
   "cell_type": "markdown",
   "metadata": {},
   "source": [
    "2. Du versteckst es vor Python. Dies nennt man auch \"maskieren\"."
   ]
  },
  {
   "cell_type": "code",
   "execution_count": null,
   "metadata": {},
   "outputs": [],
   "source": [
    "'Runnin\\' down the hill'"
   ]
  },
  {
   "cell_type": "markdown",
   "metadata": {},
   "source": [
    "Der Computer kann alles mögliche mit Texten anstellen, weil es für ihn nur Zahlen sind."
   ]
  },
  {
   "cell_type": "code",
   "execution_count": null,
   "metadata": {},
   "outputs": [],
   "source": [
    "\"Ola\".upper()"
   ]
  },
  {
   "cell_type": "code",
   "execution_count": null,
   "metadata": {},
   "outputs": [],
   "source": [
    "len(\"Ola\")"
   ]
  },
  {
   "cell_type": "markdown",
   "metadata": {},
   "source": [
    "Nun fragst du dich sicher, warum du manchmal eine Methode mit einem . am Ende des Strings (wie bei \"Ola\".upper()) schreibst und manchmal eine Funktion direkt aufrufst und den String dahinter in Klammern setzt? Im ersten Fall gehören solche Methoden, wie upper(), zu Objekten (hier: ein String) und funktionieren auch nur bei diesen. In solchen Fällen bezeichnen wir eine Funktion als Methode. Andere Funktionen sind dagegen allgemeiner und können auf unterschiedliche Datentypen angewendet werden, wie beispielsweise len(). Daher übergeben wir \"Ola\" als Parameter an die len Funktion."
   ]
  },
  {
   "attachments": {},
   "cell_type": "markdown",
   "metadata": {},
   "source": [
    "# Hier geht es weiter:\n",
    "- [Aufgaben ](1_Aufgaben.ipynb)"
   ]
  }
 ],
 "metadata": {
  "interpreter": {
   "hash": "7c2b06916121fe99e6cf9ed6cd9933851b52e3b300a29f27184a9c01472ee594"
  },
  "kernelspec": {
   "display_name": "Python 3.9.12 ('Django')",
   "language": "python",
   "name": "python3"
  },
  "language_info": {
   "codemirror_mode": {
    "name": "ipython",
    "version": 3
   },
   "file_extension": ".py",
   "mimetype": "text/x-python",
   "name": "python",
   "nbconvert_exporter": "python",
   "pygments_lexer": "ipython3",
   "version": "3.9.12"
  },
  "orig_nbformat": 4
 },
 "nbformat": 4,
 "nbformat_minor": 2
}
