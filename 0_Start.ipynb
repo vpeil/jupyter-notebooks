{
 "cells": [
  {
   "attachments": {},
   "cell_type": "markdown",
   "metadata": {},
   "source": [
    "## Python mit Jupyter-Notebooks Test\n",
    "\n",
    "<div style=\"padding: 5px 20px 20px\">\n",
    "In den folgenden Aufgaben sollst Du die Grundlagen für den Umgang mit Python erlernen. Wie Du schon weisst, benötigt jede Programmiersprache einen Compiler, der sie in den Maschinencode übersetzt. Für Python gibt es die Möglichkeit diesen in ein Arbeitsblatt, wie Du es gerade liest (Jupyter-Notebook) zu integrieren. Siehst Du hier nur den Quelltext, musst Du die Jupyter-Erweiterung noch laden."
   ]
  },
  {
   "attachments": {},
   "cell_type": "markdown",
   "metadata": {},
   "source": [
    "<div style=\"padding: 5px 20px 20px\">\n",
    "\n",
    "Du findest hier einige Eingabezellen, die du an `[ ]` links am Rand erkennen kannst.\n",
    "\n",
    "**Bewege den Cursor an den linken Rand oder auch in eine solche Eingabezelle und**\n",
    "\n",
    "- clicke auf den `▶︎ Run`-Button (oben) \n",
    "    \n",
    "**oder**\n",
    "    \n",
    "- benutze die `↩︎ Eingabe`-Taste mit gedrückter `⇧ Shift`-Taste\n",
    "\n",
    "**Möchtest Du alle Zellen auf dieser Seite ausführen, kannst Du oben auch den Befehl \"Alle ausführen\" verwenden.**"
   ]
  },
  {
   "attachments": {},
   "cell_type": "markdown",
   "metadata": {},
   "source": [
    "**Interaktion mit dem Notebook**\n",
    "\n",
    "<div style=\"padding: 5px 20px 20px\">\n",
    "\n",
    "\n",
    "Führe die folgenden Zellen einzeln aus, setze sie zurück und führe sie alle aus."
   ]
  },
  {
   "cell_type": "code",
   "execution_count": null,
   "metadata": {},
   "outputs": [],
   "source": [
    "7*8"
   ]
  },
  {
   "cell_type": "code",
   "execution_count": null,
   "metadata": {},
   "outputs": [],
   "source": [
    "print(\"Hallo Python\")"
   ]
  },
  {
   "attachments": {},
   "cell_type": "markdown",
   "metadata": {},
   "source": [
    "# Hier geht es weiter:\n",
    "- [Grundstrukturen in Python](1_Erste_Schritte.ipynb)"
   ]
  }
 ],
 "metadata": {
  "kernelspec": {
   "display_name": "base",
   "language": "python",
   "name": "python3"
  },
  "language_info": {
   "codemirror_mode": {
    "name": "ipython",
    "version": 3
   },
   "file_extension": ".py",
   "mimetype": "text/x-python",
   "name": "python",
   "nbconvert_exporter": "python",
   "pygments_lexer": "ipython3",
   "version": "3.9.7"
  },
  "orig_nbformat": 4,
  "vscode": {
   "interpreter": {
    "hash": "ad2bdc8ecc057115af97d19610ffacc2b4e99fae6737bb82f5d7fb13d2f2c186"
   }
  }
 },
 "nbformat": 4,
 "nbformat_minor": 2
}
