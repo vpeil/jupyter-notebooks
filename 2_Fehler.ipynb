{
 "cells": [
  {
   "cell_type": "markdown",
   "metadata": {},
   "source": [
    "# Fehlermeldungen"
   ]
  },
  {
   "cell_type": "code",
   "execution_count": 1,
   "metadata": {},
   "outputs": [
    {
     "ename": "TypeError",
     "evalue": "object of type 'int' has no len()",
     "output_type": "error",
     "traceback": [
      "\u001b[1;31m---------------------------------------------------------------------------\u001b[0m",
      "\u001b[1;31mTypeError\u001b[0m                                 Traceback (most recent call last)",
      "\u001b[1;32md:\\Nextcloud\\Fächer\\Technik\\Informatik_WPII\\django\\3_Fehler.ipynb Cell 2'\u001b[0m in \u001b[0;36m<cell line: 1>\u001b[1;34m()\u001b[0m\n\u001b[1;32m----> <a href='vscode-notebook-cell:/d%3A/Nextcloud/F%C3%A4cher/Technik/Informatik_WPII/django/3_Fehler.ipynb#ch0000002?line=0'>1</a>\u001b[0m \u001b[39mlen\u001b[39;49m(\u001b[39m304023\u001b[39;49m)\n",
      "\u001b[1;31mTypeError\u001b[0m: object of type 'int' has no len()"
     ]
    }
   ],
   "source": [
    "len(304023)"
   ]
  },
  {
   "cell_type": "markdown",
   "metadata": {},
   "source": [
    "Wir haben unsere erste Fehlermeldung (Error) erhalten!\\\n",
    "\\\n",
    "Die Fehlermeldung zeigt zuerst einmal, wo der Fehler zu finden ist. Es kann jedoch vorkommen, dass sich schon einige Zeilen zuvor ein Fehler eingeschlichen hat, der erst jetzt so schlimm wird, dass Python nicht mehr weiter kommt.\\\n",
    "Der zweite Teil zeigt dann, wo das Problem ist. Objekte vom Typ \"int\" haben keine Länge für diese Funktion. Wir müssen also dafür sorgen, dass die Zahl als Text vom Computer bearbeitet wird:"
   ]
  },
  {
   "cell_type": "code",
   "execution_count": null,
   "metadata": {},
   "outputs": [],
   "source": [
    "len(str(304023))"
   ]
  },
  {
   "attachments": {},
   "cell_type": "markdown",
   "metadata": {},
   "source": [
    "# Hier geht es weiter:\n",
    "- [Übungen zu Variablen](2_Variablen.ipynb)    "
   ]
  }
 ],
 "metadata": {
  "interpreter": {
   "hash": "7c2b06916121fe99e6cf9ed6cd9933851b52e3b300a29f27184a9c01472ee594"
  },
  "kernelspec": {
   "display_name": "Python 3.9.12 ('Django')",
   "language": "python",
   "name": "python3"
  },
  "language_info": {
   "codemirror_mode": {
    "name": "ipython",
    "version": 3
   },
   "file_extension": ".py",
   "mimetype": "text/x-python",
   "name": "python",
   "nbconvert_exporter": "python",
   "pygments_lexer": "ipython3",
   "version": "3.9.12"
  },
  "orig_nbformat": 4
 },
 "nbformat": 4,
 "nbformat_minor": 2
}
